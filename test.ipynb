{
 "cells": [
  {
   "cell_type": "code",
   "execution_count": null,
   "metadata": {},
   "outputs": [],
   "source": [
    "# Setup\n",
    "%load_ext autoreload\n",
    "%autoreload 2"
   ]
  },
  {
   "cell_type": "code",
   "execution_count": null,
   "metadata": {},
   "outputs": [],
   "source": [
    "from src.envs.frozen_lake.utils import plot_map, add_teacher\n",
    "from src.envs.frozen_lake.frozen_maps import MAPS, MAP_ENCODING\n",
    "import matplotlib.pyplot as plt\n",
    "plot_map(add_teacher(MAPS['small']), legend=True)"
   ]
  },
  {
   "cell_type": "code",
   "execution_count": null,
   "metadata": {},
   "outputs": [],
   "source": [
    "# set trigger states\n",
    "# WIP\n",
    "import numpy as np\n",
    "maps = {}\n",
    "for name, m in MAPS.items():\n",
    "    x = np.array([[*map(list(MAP_ENCODING.keys()).index, row)] for row in m])\n",
    "    tmp = np.zeros(np.array(x.shape)+2)\n",
    "    tmp[1:-1,1:-1] = x\n",
    "    for i, j in np.nditer(x.shape):\n",
    "        if x[i,j] == 0:\n",
    "            if 2 in [tmp[i,j+1],tmp[i+1,j],tmp[i+2,j+1],tmp[i+1,j+2]]:\n",
    "                x[i,j] = 4\n",
    "    maps[name] = x"
   ]
  },
  {
   "cell_type": "code",
   "execution_count": null,
   "metadata": {},
   "outputs": [],
   "source": [
    "# generate plots for all maps\n",
    "import matplotlib.pyplot as plt\n",
    "for name in ['5x5_simple', '8x8', 'small', '16x16', '32x32']:\n",
    "    plot_map(add_teacher(MAPS[name]), legend=True)\n",
    "    plt.savefig(f'map_{name}.pdf', bbox_inches='tight')\n",
    "    plt.close()"
   ]
  },
  {
   "cell_type": "code",
   "execution_count": null,
   "metadata": {},
   "outputs": [],
   "source": [
    "from matplotlib import pyplot as plt, patches as mpatches\n",
    "\n",
    "labels = ['Safe', 'Goal', 'Danger', 'Start', 'Danger']\n",
    "colors = ['#e1f5fe', '#81c784', '#1976d2', '#ef9a9a', '#ffe0b2']\n",
    "patches = [\n",
    "    mpatches.Patch(color=colors[i], label=labels[i])\n",
    "    for i in range(len(colors))]\n",
    "\n",
    "plt.subplot(121)\n",
    "plot_map(add_teacher(MAPS['small']))\n",
    "plt.subplot(122)\n",
    "plot_map(add_teacher(MAPS['16x16']))\n",
    "plt.figlegend(handles=patches, loc='lower center', ncol=5, labelspacing=0)\n",
    "plt.tight_layout()\n",
    "plt.savefig('maps.pdf')"
   ]
  },
  {
   "cell_type": "code",
   "execution_count": null,
   "metadata": {},
   "outputs": [],
   "source": [
    "# thresholds\n",
    "import os\n",
    "from src.teacher.frozen_single_switch_utils import SingleSwitchPolicy\n",
    "\n",
    "teacher_dir = 'results/flake/teacher_training/03_06_20__12_20_36/'\n",
    "model = SingleSwitchPolicy.load(os.path.join(teacher_dir, 'trained_teacher'))\n",
    "\n",
    "model.thresholds"
   ]
  }
 ],
 "metadata": {
  "kernelspec": {
   "display_name": "Python 3.7.13 ('cisr')",
   "language": "python",
   "name": "python3"
  },
  "language_info": {
   "codemirror_mode": {
    "name": "ipython",
    "version": 3
   },
   "file_extension": ".py",
   "mimetype": "text/x-python",
   "name": "python",
   "nbconvert_exporter": "python",
   "pygments_lexer": "ipython3",
   "version": "3.7.13"
  },
  "orig_nbformat": 4,
  "vscode": {
   "interpreter": {
    "hash": "c4dd3b77fb88a01323effbac78bd043b976aa838f3dfe9be0448a2582e1f9d4a"
   }
  }
 },
 "nbformat": 4,
 "nbformat_minor": 2
}
